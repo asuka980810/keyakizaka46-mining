{
 "cells": [
  {
   "cell_type": "code",
   "execution_count": 1,
   "metadata": {},
   "outputs": [],
   "source": [
    "import os\n",
    "import pandas as pd\n",
    "\n",
    "import urllib.error\n",
    "import urllib.request\n",
    "\n",
    "def download_image(url, dst_path):\n",
    "    try:\n",
    "        data = urllib.request.urlopen(url).read()\n",
    "        with open(dst_path, mode=\"wb\") as f:\n",
    "            f.write(data)\n",
    "    except urllib.error.URLError as e:\n",
    "        print(e)"
   ]
  },
  {
   "cell_type": "code",
   "execution_count": 2,
   "metadata": {},
   "outputs": [
    {
     "name": "stdout",
     "output_type": "stream",
     "text": [
      "(16367, 6)\n"
     ]
    },
    {
     "data": {
      "text/html": [
       "<div>\n",
       "<style scoped>\n",
       "    .dataframe tbody tr th:only-of-type {\n",
       "        vertical-align: middle;\n",
       "    }\n",
       "\n",
       "    .dataframe tbody tr th {\n",
       "        vertical-align: top;\n",
       "    }\n",
       "\n",
       "    .dataframe thead th {\n",
       "        text-align: right;\n",
       "    }\n",
       "</style>\n",
       "<table border=\"1\" class=\"dataframe\">\n",
       "  <thead>\n",
       "    <tr style=\"text-align: right;\">\n",
       "      <th></th>\n",
       "      <th>author</th>\n",
       "      <th>datetime</th>\n",
       "      <th>title</th>\n",
       "      <th>text</th>\n",
       "      <th>images</th>\n",
       "      <th>url</th>\n",
       "    </tr>\n",
       "  </thead>\n",
       "  <tbody>\n",
       "    <tr>\n",
       "      <th>0</th>\n",
       "      <td>石森虹花</td>\n",
       "      <td>2015/11/1323:43</td>\n",
       "      <td>ん〜〜。。。寝れない(つД`)ノ</td>\n",
       "      <td>\\r\\n\\r\\n\\r\\nみんなさんこんばんわ!\\r\\n\\r\\n欅坂46 石森虹花です U・x...</td>\n",
       "      <td>http://cdn.keyakizaka46.com/images/14/c47/4b13...</td>\n",
       "      <td>http://www.keyakizaka46.com/s/k46o/diary/detai...</td>\n",
       "    </tr>\n",
       "    <tr>\n",
       "      <th>1</th>\n",
       "      <td>土生瑞穂</td>\n",
       "      <td>2015/11/1323:42</td>\n",
       "      <td>どきどきぶろぐ</td>\n",
       "      <td>\\r\\n皆さんはじめまして!欅坂46の土生瑞穂 です。いよいよ 明日・明後日お見立て会が開催...</td>\n",
       "      <td>http://cdn.keyakizaka46.com/files/14/diary/k46...</td>\n",
       "      <td>http://www.keyakizaka46.com/s/k46o/diary/detai...</td>\n",
       "    </tr>\n",
       "    <tr>\n",
       "      <th>2</th>\n",
       "      <td>佐藤詩織</td>\n",
       "      <td>2015/11/1322:24</td>\n",
       "      <td>皆様初めまして</td>\n",
       "      <td>\\r\\nみなさま はじめまして!こんばんは!欅坂46の佐藤詩織です!*夜遅くに ありがとうご...</td>\n",
       "      <td>http://cdn.keyakizaka46.com/files/14/diary/k46...</td>\n",
       "      <td>http://www.keyakizaka46.com/s/k46o/diary/detai...</td>\n",
       "    </tr>\n",
       "    <tr>\n",
       "      <th>3</th>\n",
       "      <td>原田葵</td>\n",
       "      <td>2015/11/1322:22</td>\n",
       "      <td>初めて⍤⃝♡</td>\n",
       "      <td>\\r\\nみなさん、はじめまして( *ˊᵕˋ)ﾉ原田 葵ですこのブログを通して私のことをもっと...</td>\n",
       "      <td>http://cdn.keyakizaka46.com/files/14/diary/k46...</td>\n",
       "      <td>http://www.keyakizaka46.com/s/k46o/diary/detai...</td>\n",
       "    </tr>\n",
       "    <tr>\n",
       "      <th>4</th>\n",
       "      <td>織田奈那</td>\n",
       "      <td>2015/11/1322:21</td>\n",
       "      <td>ドキドキ</td>\n",
       "      <td>\\r\\n皆さんこんちには今日からブログがスタートします♡とうとう明日はお見立て会です皆さんに...</td>\n",
       "      <td>http://cdn.keyakizaka46.com/files/14/diary/k46...</td>\n",
       "      <td>http://www.keyakizaka46.com/s/k46o/diary/detai...</td>\n",
       "    </tr>\n",
       "  </tbody>\n",
       "</table>\n",
       "</div>"
      ],
      "text/plain": [
       "  author         datetime             title  \\\n",
       "0   石森虹花  2015/11/1323:43  ん〜〜。。。寝れない(つД`)ノ   \n",
       "1   土生瑞穂  2015/11/1323:42           どきどきぶろぐ   \n",
       "2   佐藤詩織  2015/11/1322:24           皆様初めまして   \n",
       "3    原田葵  2015/11/1322:22            初めて⍤⃝♡   \n",
       "4   織田奈那  2015/11/1322:21              ドキドキ   \n",
       "\n",
       "                                                text  \\\n",
       "0  \\r\\n\\r\\n\\r\\nみんなさんこんばんわ!\\r\\n\\r\\n欅坂46 石森虹花です U・x...   \n",
       "1  \\r\\n皆さんはじめまして!欅坂46の土生瑞穂 です。いよいよ 明日・明後日お見立て会が開催...   \n",
       "2  \\r\\nみなさま はじめまして!こんばんは!欅坂46の佐藤詩織です!*夜遅くに ありがとうご...   \n",
       "3  \\r\\nみなさん、はじめまして( *ˊᵕˋ)ﾉ原田 葵ですこのブログを通して私のことをもっと...   \n",
       "4  \\r\\n皆さんこんちには今日からブログがスタートします♡とうとう明日はお見立て会です皆さんに...   \n",
       "\n",
       "                                              images  \\\n",
       "0  http://cdn.keyakizaka46.com/images/14/c47/4b13...   \n",
       "1  http://cdn.keyakizaka46.com/files/14/diary/k46...   \n",
       "2  http://cdn.keyakizaka46.com/files/14/diary/k46...   \n",
       "3  http://cdn.keyakizaka46.com/files/14/diary/k46...   \n",
       "4  http://cdn.keyakizaka46.com/files/14/diary/k46...   \n",
       "\n",
       "                                                 url  \n",
       "0  http://www.keyakizaka46.com/s/k46o/diary/detai...  \n",
       "1  http://www.keyakizaka46.com/s/k46o/diary/detai...  \n",
       "2  http://www.keyakizaka46.com/s/k46o/diary/detai...  \n",
       "3  http://www.keyakizaka46.com/s/k46o/diary/detai...  \n",
       "4  http://www.keyakizaka46.com/s/k46o/diary/detai...  "
      ]
     },
     "execution_count": 2,
     "metadata": {},
     "output_type": "execute_result"
    }
   ],
   "source": [
    "# read csv\n",
    "\n",
    "df = pd.read_csv( '../data/keyakizaka46_blog.csv' )\n",
    "print(df.shape)\n",
    "df.head()"
   ]
  },
  {
   "cell_type": "code",
   "execution_count": 20,
   "metadata": {},
   "outputs": [
    {
     "name": "stdout",
     "output_type": "stream",
     "text": [
      "13000\n",
      "14000\n",
      "15000\n",
      "16000\n"
     ]
    }
   ],
   "source": [
    "save_dir = '../data/images'\n",
    "\n",
    "for idx, line in enumerate( df[['author','images']].values.tolist() ):\n",
    "    if idx % 1000 == 0: print( idx ) \n",
    "    name = line[0]\n",
    "    if type( line[1] ) == float:\n",
    "        continue\n",
    "    image_list = line[1].split('\\t')[:-1]\n",
    "    imsave_dir = '%s/%s' % (save_dir, name)\n",
    "    if not os.path.exists( imsave_dir ):\n",
    "        os.mkdir( imsave_dir )\n",
    "    for imurl in image_list:\n",
    "        if imurl == \"None\": continue\n",
    "        imname = imurl.split('/')[-1]\n",
    "        if os.path.exists( '%s/%s' % (imsave_dir, imname) ): continue\n",
    "        download_image( imurl, '%s/%s' % (imsave_dir, imname) )\n",
    "        "
   ]
  },
  {
   "cell_type": "code",
   "execution_count": null,
   "metadata": {},
   "outputs": [],
   "source": []
  }
 ],
 "metadata": {
  "kernelspec": {
   "display_name": "Python 3",
   "language": "python",
   "name": "python3"
  },
  "language_info": {
   "codemirror_mode": {
    "name": "ipython",
    "version": 3
   },
   "file_extension": ".py",
   "mimetype": "text/x-python",
   "name": "python",
   "nbconvert_exporter": "python",
   "pygments_lexer": "ipython3",
   "version": "3.7.1"
  }
 },
 "nbformat": 4,
 "nbformat_minor": 2
}
