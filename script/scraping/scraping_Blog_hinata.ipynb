{
 "cells": [
  {
   "cell_type": "code",
   "execution_count": 1,
   "metadata": {},
   "outputs": [],
   "source": [
    "# \n",
    "\n",
    "import pandas as pd\n",
    "import seaborn as sns\n",
    "sns.set()\n",
    "\n",
    "import re, requests\n",
    "from bs4 import BeautifulSoup\n",
    "\n",
    "import datetime\n",
    "from dateutil.relativedelta import relativedelta"
   ]
  },
  {
   "cell_type": "code",
   "execution_count": 2,
   "metadata": {},
   "outputs": [],
   "source": [
    "# japanese plot setting\n",
    "\n",
    "import matplotlib as mpl\n",
    "import matplotlib.pyplot as plt\n",
    "from matplotlib.font_manager import FontProperties\n",
    "\n",
    "font_path = '/usr/share/fonts/truetype/takao-gothic/TakaoGothic.ttf'  #DLしたパスを指定. /font以下でなくても良い\n",
    "font_prop = FontProperties(fname=font_path)\n",
    "mpl.rcParams['font.family'] = font_prop.get_name()"
   ]
  },
  {
   "cell_type": "code",
   "execution_count": 4,
   "metadata": {},
   "outputs": [],
   "source": [
    "# path\n",
    "\n",
    "blog_save_dir = '/keyakizaka_mining/data/blog'"
   ]
  },
  {
   "cell_type": "markdown",
   "metadata": {},
   "source": [
    "# new hinatazaka46"
   ]
  },
  {
   "cell_type": "code",
   "execution_count": 5,
   "metadata": {},
   "outputs": [
    {
     "name": "stdout",
     "output_type": "stream",
     "text": [
      "400\n",
      "350\n",
      "300\n",
      "250\n",
      "200\n",
      "150\n",
      "100\n",
      "50\n",
      "0\n"
     ]
    }
   ],
   "source": [
    "def get_hinata_articles_from_single_page( page_soup ):\n",
    "\n",
    "    articles = []\n",
    "    for i, j in enumerate( page_soup.find_all( 'div', class_='p-blog-article' ) ):\n",
    "        author = j.find('div', class_='c-blog-article__name').text.replace(' ','').replace('\\n','')\n",
    "        datetime = j.find('div', class_='c-blog-article__date').text.strip()\n",
    "        title = j.find('div', class_='c-blog-article__title').text.strip()\n",
    "        body = j.find('div', class_='c-blog-article__text')\n",
    "        text = body.text.strip()\n",
    "        page_url = 'https://www.hinatazaka46.com' + j.find('div', class_='p-button__blog_detail').a.get('href')\n",
    "        images = ''\n",
    "        for img in  body.find_all('img'):\n",
    "            images += '%s\\t'% img.get('src')\n",
    "        articles.append( [author, datetime, title, text, images, page_url] )    \n",
    "    return articles\n",
    "\n",
    "max_page_number = 427 # ...\n",
    "\n",
    "all_articles = []\n",
    "for page_idx in range( max_page_number, -1, -1 ):\n",
    "    if page_idx % 50 == 0: print(page_idx)\n",
    "    target_url = 'https://www.hinatazaka46.com/s/official/diary/member/list?ima=0000&page=%d&cd=member' % page_idx\n",
    "    r = requests.get(target_url)\n",
    "    soup = BeautifulSoup(r.text, 'lxml')\n",
    "    page_articles = get_hinata_articles_from_single_page( soup )\n",
    "    all_articles.extend( page_articles )"
   ]
  },
  {
   "cell_type": "code",
   "execution_count": 43,
   "metadata": {},
   "outputs": [
    {
     "name": "stdout",
     "output_type": "stream",
     "text": [
      "(8529, 6)\n"
     ]
    },
    {
     "data": {
      "text/html": [
       "<div>\n",
       "<style scoped>\n",
       "    .dataframe tbody tr th:only-of-type {\n",
       "        vertical-align: middle;\n",
       "    }\n",
       "\n",
       "    .dataframe tbody tr th {\n",
       "        vertical-align: top;\n",
       "    }\n",
       "\n",
       "    .dataframe thead th {\n",
       "        text-align: right;\n",
       "    }\n",
       "</style>\n",
       "<table border=\"1\" class=\"dataframe\">\n",
       "  <thead>\n",
       "    <tr style=\"text-align: right;\">\n",
       "      <th></th>\n",
       "      <th>author</th>\n",
       "      <th>datetime</th>\n",
       "      <th>title</th>\n",
       "      <th>text</th>\n",
       "      <th>images</th>\n",
       "      <th>url</th>\n",
       "    </tr>\n",
       "  </thead>\n",
       "  <tbody>\n",
       "    <tr>\n",
       "      <th>0</th>\n",
       "      <td>加藤史帆</td>\n",
       "      <td>2016.8.2 02:50</td>\n",
       "      <td>はじめまして( 。・о・。)</td>\n",
       "      <td>はじめまして！    ひらがなけやきの加藤史帆です(｡･υ･)/ﾞ     今月から私たちひ...</td>\n",
       "      <td>https://cdn.hinatazaka46.com/images/14/aff/ed5...</td>\n",
       "      <td>https://www.hinatazaka46.com/s/official/diary/...</td>\n",
       "    </tr>\n",
       "    <tr>\n",
       "      <th>1</th>\n",
       "      <td>高本彩花</td>\n",
       "      <td>2016.8.2 02:46</td>\n",
       "      <td>はじめまして</td>\n",
       "      <td>はじめまして   ひらがなけやきの高本彩花です。   8月からブログ書かせていただけることに...</td>\n",
       "      <td>https://cdn.hinatazaka46.com/images/14/913/41e...</td>\n",
       "      <td>https://www.hinatazaka46.com/s/official/diary/...</td>\n",
       "    </tr>\n",
       "  </tbody>\n",
       "</table>\n",
       "</div>"
      ],
      "text/plain": [
       "  author        datetime           title  \\\n",
       "0   加藤史帆  2016.8.2 02:50  はじめまして( 。・о・。)   \n",
       "1   高本彩花  2016.8.2 02:46          はじめまして   \n",
       "\n",
       "                                                text  \\\n",
       "0  はじめまして！    ひらがなけやきの加藤史帆です(｡･υ･)/ﾞ     今月から私たちひ...   \n",
       "1  はじめまして   ひらがなけやきの高本彩花です。   8月からブログ書かせていただけることに...   \n",
       "\n",
       "                                              images  \\\n",
       "0  https://cdn.hinatazaka46.com/images/14/aff/ed5...   \n",
       "1  https://cdn.hinatazaka46.com/images/14/913/41e...   \n",
       "\n",
       "                                                 url  \n",
       "0  https://www.hinatazaka46.com/s/official/diary/...  \n",
       "1  https://www.hinatazaka46.com/s/official/diary/...  "
      ]
     },
     "metadata": {},
     "output_type": "display_data"
    },
    {
     "data": {
      "text/html": [
       "<div>\n",
       "<style scoped>\n",
       "    .dataframe tbody tr th:only-of-type {\n",
       "        vertical-align: middle;\n",
       "    }\n",
       "\n",
       "    .dataframe tbody tr th {\n",
       "        vertical-align: top;\n",
       "    }\n",
       "\n",
       "    .dataframe thead th {\n",
       "        text-align: right;\n",
       "    }\n",
       "</style>\n",
       "<table border=\"1\" class=\"dataframe\">\n",
       "  <thead>\n",
       "    <tr style=\"text-align: right;\">\n",
       "      <th></th>\n",
       "      <th>author</th>\n",
       "      <th>datetime</th>\n",
       "      <th>title</th>\n",
       "      <th>text</th>\n",
       "      <th>images</th>\n",
       "      <th>url</th>\n",
       "    </tr>\n",
       "  </thead>\n",
       "  <tbody>\n",
       "    <tr>\n",
       "      <th>8527</th>\n",
       "      <td>高本彩花</td>\n",
       "      <td>2019.7.23 23:19</td>\n",
       "      <td>🍒</td>\n",
       "      <td>こんにちは高本彩花です🍒🧜‍♀️先日、MUSIC STATIONさんに出演しました🎤キュンに...</td>\n",
       "      <td>https://cdn.hinatazaka46.com/files/14/diary/of...</td>\n",
       "      <td>https://www.hinatazaka46.com/s/official/diary/...</td>\n",
       "    </tr>\n",
       "    <tr>\n",
       "      <th>8528</th>\n",
       "      <td>上村ひなの</td>\n",
       "      <td>2019.7.23 23:17</td>\n",
       "      <td>69,ゼラニウムの葉</td>\n",
       "      <td>こんにちは！\\n\\n\\n日向坂46三期生\\n中学三年生15歳の\\n\\nかみむら ひなの です...</td>\n",
       "      <td>https://cdn.hinatazaka46.com/images/14/6c6/b89...</td>\n",
       "      <td>https://www.hinatazaka46.com/s/official/diary/...</td>\n",
       "    </tr>\n",
       "  </tbody>\n",
       "</table>\n",
       "</div>"
      ],
      "text/plain": [
       "     author         datetime       title  \\\n",
       "8527   高本彩花  2019.7.23 23:19           🍒   \n",
       "8528  上村ひなの  2019.7.23 23:17  69,ゼラニウムの葉   \n",
       "\n",
       "                                                   text  \\\n",
       "8527  こんにちは高本彩花です🍒🧜‍♀️先日、MUSIC STATIONさんに出演しました🎤キュンに...   \n",
       "8528  こんにちは！\\n\\n\\n日向坂46三期生\\n中学三年生15歳の\\n\\nかみむら ひなの です...   \n",
       "\n",
       "                                                 images  \\\n",
       "8527  https://cdn.hinatazaka46.com/files/14/diary/of...   \n",
       "8528  https://cdn.hinatazaka46.com/images/14/6c6/b89...   \n",
       "\n",
       "                                                    url  \n",
       "8527  https://www.hinatazaka46.com/s/official/diary/...  \n",
       "8528  https://www.hinatazaka46.com/s/official/diary/...  "
      ]
     },
     "metadata": {},
     "output_type": "display_data"
    }
   ],
   "source": [
    "# check\n",
    "\n",
    "df = pd.DataFrame( all_articles, columns=['author', 'datetime', 'title', 'text', 'images', 'url'] )\n",
    "print( df.shape )\n",
    "display( df.head(2) )\n",
    "display( df.tail(2) )"
   ]
  },
  {
   "cell_type": "code",
   "execution_count": 49,
   "metadata": {},
   "outputs": [],
   "source": [
    "# save csv\n",
    "\n",
    "datetime_str = datetime.datetime.today().strftime(\"%Y%m%d\")\n",
    "df.to_csv( '%s/hinatazaka46_blog_%s.csv' % (blog_save_dir, datetime_str), index=0 )"
   ]
  },
  {
   "cell_type": "code",
   "execution_count": 51,
   "metadata": {},
   "outputs": [],
   "source": [
    "# read csv\n",
    "\n",
    "df = pd.read_csv( '%s/hinatazaka46_blog_%s.csv' % (blog_save_dir, datetime_str) )"
   ]
  },
  {
   "cell_type": "code",
   "execution_count": 54,
   "metadata": {},
   "outputs": [
    {
     "data": {
      "image/png": "[encoded data removed]",
      "text/plain": [
       "<Figure size 1200x400 with 1 Axes>"
      ]
     },
     "metadata": {
      "needs_background": "light"
     },
     "output_type": "display_data"
    }
   ],
   "source": [
    "# plot article numbers each author\n",
    "\n",
    "fig = plt.figure(figsize=(12,4),dpi=100)\n",
    "df['author'].value_counts().plot(kind='barh')\n",
    "plt.show()"
   ]
  },
  {
   "cell_type": "code",
   "execution_count": null,
   "metadata": {},
   "outputs": [],
   "source": []
  }
 ],
 "metadata": {
  "kernelspec": {
   "display_name": "Python 3",
   "language": "python",
   "name": "python3"
  },
  "language_info": {
   "codemirror_mode": {
    "name": "ipython",
    "version": 3
   },
   "file_extension": ".py",
   "mimetype": "text/x-python",
   "name": "python",
   "nbconvert_exporter": "python",
   "pygments_lexer": "ipython3",
   "version": "3.7.3"
  }
 },
 "nbformat": 4,
 "nbformat_minor": 2
}
