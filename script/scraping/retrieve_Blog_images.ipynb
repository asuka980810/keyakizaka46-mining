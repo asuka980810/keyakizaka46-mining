{
 "cells": [
  {
   "cell_type": "code",
   "execution_count": 1,
   "metadata": {},
   "outputs": [],
   "source": [
    "import os\n",
    "import pandas as pd\n",
    "\n",
    "import urllib.error\n",
    "import urllib.request\n",
    "\n",
    "def download_image(url, dst_path):\n",
    "    try:\n",
    "        data = urllib.request.urlopen(url).read()\n",
    "        with open(dst_path, mode=\"wb\") as f:\n",
    "            f.write(data)\n",
    "    except urllib.error.URLError as e:\n",
    "        print(e)"
   ]
  },
  {
   "cell_type": "code",
   "execution_count": 7,
   "metadata": {},
   "outputs": [],
   "source": [
    "# path\n",
    "\n",
    "blog_save_dir = '/keyakizaka_mining/data/blog'\n",
    "image_save_dir = '/keyakizaka_mining/data/images'"
   ]
  },
  {
   "cell_type": "code",
   "execution_count": 3,
   "metadata": {},
   "outputs": [
    {
     "name": "stdout",
     "output_type": "stream",
     "text": [
      "(16754, 6)\n"
     ]
    },
    {
     "data": {
      "text/html": [
       "<div>\n",
       "<style scoped>\n",
       "    .dataframe tbody tr th:only-of-type {\n",
       "        vertical-align: middle;\n",
       "    }\n",
       "\n",
       "    .dataframe tbody tr th {\n",
       "        vertical-align: top;\n",
       "    }\n",
       "\n",
       "    .dataframe thead th {\n",
       "        text-align: right;\n",
       "    }\n",
       "</style>\n",
       "<table border=\"1\" class=\"dataframe\">\n",
       "  <thead>\n",
       "    <tr style=\"text-align: right;\">\n",
       "      <th></th>\n",
       "      <th>author</th>\n",
       "      <th>datetime</th>\n",
       "      <th>title</th>\n",
       "      <th>text</th>\n",
       "      <th>images</th>\n",
       "      <th>url</th>\n",
       "    </tr>\n",
       "  </thead>\n",
       "  <tbody>\n",
       "    <tr>\n",
       "      <th>0</th>\n",
       "      <td>齋藤冬優花</td>\n",
       "      <td>2015/11/1400:02</td>\n",
       "      <td>＼はじめまして︎︎❤︎︎1/︎︎</td>\n",
       "      <td>\\n お見立て会前日にして始まりましたっ!欅坂46ブログ(*ﾟ▽ﾟ)ﾉ嬉しくて嬉しくて、、、...</td>\n",
       "      <td>http://cdn.keyakizaka46.com/files/14/diary/k46...</td>\n",
       "      <td>http://www.keyakizaka46.com/s/k46o/diary/detai...</td>\n",
       "    </tr>\n",
       "    <tr>\n",
       "      <th>1</th>\n",
       "      <td>菅井友香</td>\n",
       "      <td>2015/11/1323:54</td>\n",
       "      <td>菅井友香です(^ ^)</td>\n",
       "      <td>\\n初めまして(^ ^)!この度欅坂46として活動させて頂けることになりました、東京都出身1...</td>\n",
       "      <td>http://cdn.keyakizaka46.com/files/14/diary/k46...</td>\n",
       "      <td>http://www.keyakizaka46.com/s/k46o/diary/detai...</td>\n",
       "    </tr>\n",
       "    <tr>\n",
       "      <th>2</th>\n",
       "      <td>尾関梨香</td>\n",
       "      <td>2015/11/1323:52</td>\n",
       "      <td>じゃじゃじゃーーん①</td>\n",
       "      <td>\\nはじめまして(^ν^)神奈川県出身高校3年生18歳の尾関梨香です。いよいよ本日からブログ...</td>\n",
       "      <td>http://cdn.keyakizaka46.com/files/14/diary/k46...</td>\n",
       "      <td>http://www.keyakizaka46.com/s/k46o/diary/detai...</td>\n",
       "    </tr>\n",
       "    <tr>\n",
       "      <th>3</th>\n",
       "      <td>小林由依</td>\n",
       "      <td>2015/11/1323:51</td>\n",
       "      <td>はじまりました☆彡</td>\n",
       "      <td>\\n「皆」という漢字の下の部分が 日 ではなく、白ということを最近知りました。小林由依です♪...</td>\n",
       "      <td>NaN</td>\n",
       "      <td>http://www.keyakizaka46.com/s/k46o/diary/detai...</td>\n",
       "    </tr>\n",
       "    <tr>\n",
       "      <th>4</th>\n",
       "      <td>小池美波</td>\n",
       "      <td>2015/11/1323:49</td>\n",
       "      <td>みなさん初めまして、小池美波です♪</td>\n",
       "      <td>\\nみなさん初めまして!高校二年生、兵庫県出身の小池美波です!ついに明日は欅坂46の初イベン...</td>\n",
       "      <td>http://cdn.keyakizaka46.com/files/14/diary/k46...</td>\n",
       "      <td>http://www.keyakizaka46.com/s/k46o/diary/detai...</td>\n",
       "    </tr>\n",
       "  </tbody>\n",
       "</table>\n",
       "</div>"
      ],
      "text/plain": [
       "  author         datetime              title  \\\n",
       "0  齋藤冬優花  2015/11/1400:02   ＼はじめまして︎︎❤︎︎1/︎︎   \n",
       "1   菅井友香  2015/11/1323:54        菅井友香です(^ ^)   \n",
       "2   尾関梨香  2015/11/1323:52         じゃじゃじゃーーん①   \n",
       "3   小林由依  2015/11/1323:51          はじまりました☆彡   \n",
       "4   小池美波  2015/11/1323:49  みなさん初めまして、小池美波です♪   \n",
       "\n",
       "                                                text  \\\n",
       "0  \\n お見立て会前日にして始まりましたっ!欅坂46ブログ(*ﾟ▽ﾟ)ﾉ嬉しくて嬉しくて、、、...   \n",
       "1  \\n初めまして(^ ^)!この度欅坂46として活動させて頂けることになりました、東京都出身1...   \n",
       "2  \\nはじめまして(^ν^)神奈川県出身高校3年生18歳の尾関梨香です。いよいよ本日からブログ...   \n",
       "3  \\n「皆」という漢字の下の部分が 日 ではなく、白ということを最近知りました。小林由依です♪...   \n",
       "4  \\nみなさん初めまして!高校二年生、兵庫県出身の小池美波です!ついに明日は欅坂46の初イベン...   \n",
       "\n",
       "                                              images  \\\n",
       "0  http://cdn.keyakizaka46.com/files/14/diary/k46...   \n",
       "1  http://cdn.keyakizaka46.com/files/14/diary/k46...   \n",
       "2  http://cdn.keyakizaka46.com/files/14/diary/k46...   \n",
       "3                                                NaN   \n",
       "4  http://cdn.keyakizaka46.com/files/14/diary/k46...   \n",
       "\n",
       "                                                 url  \n",
       "0  http://www.keyakizaka46.com/s/k46o/diary/detai...  \n",
       "1  http://www.keyakizaka46.com/s/k46o/diary/detai...  \n",
       "2  http://www.keyakizaka46.com/s/k46o/diary/detai...  \n",
       "3  http://www.keyakizaka46.com/s/k46o/diary/detai...  \n",
       "4  http://www.keyakizaka46.com/s/k46o/diary/detai...  "
      ]
     },
     "execution_count": 3,
     "metadata": {},
     "output_type": "execute_result"
    }
   ],
   "source": [
    "# read csv\n",
    "\n",
    "df = pd.read_csv( '%s/keyakizaka46_blog_20190217.csv' % (blog_save_dir) )\n",
    "print(df.shape)\n",
    "df.head()"
   ]
  },
  {
   "cell_type": "code",
   "execution_count": null,
   "metadata": {},
   "outputs": [],
   "source": [
    "# retrieve images\n",
    "\n",
    "for idx, line in enumerate( df[['author','images']].values.tolist() ):\n",
    "    if idx % 1000 == 0: print( idx ) \n",
    "    name = line[0]\n",
    "    if type( line[1] ) == float:\n",
    "        continue\n",
    "    image_list = line[1].split('\\t')[:-1]\n",
    "    imsave_dir = '%s/%s' % (image_save_dir, name)\n",
    "    if not os.path.exists( imsave_dir ):\n",
    "        os.mkdir( imsave_dir )\n",
    "    for imurl in image_list:\n",
    "        if imurl == \"None\": continue\n",
    "        imname = imurl.split('/')[-1]\n",
    "        if os.path.exists( '%s/%s' % (imsave_dir, imname) ): continue\n",
    "        download_image( imurl, '%s/%s' % (imsave_dir, imname) )\n",
    "        "
   ]
  },
  {
   "cell_type": "code",
   "execution_count": null,
   "metadata": {},
   "outputs": [],
   "source": []
  }
 ],
 "metadata": {
  "kernelspec": {
   "display_name": "Python 3",
   "language": "python",
   "name": "python3"
  },
  "language_info": {
   "codemirror_mode": {
    "name": "ipython",
    "version": 3
   },
   "file_extension": ".py",
   "mimetype": "text/x-python",
   "name": "python",
   "nbconvert_exporter": "python",
   "pygments_lexer": "ipython3",
   "version": "3.7.1"
  }
 },
 "nbformat": 4,
 "nbformat_minor": 2
}
