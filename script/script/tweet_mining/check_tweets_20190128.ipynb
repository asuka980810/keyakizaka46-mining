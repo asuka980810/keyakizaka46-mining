{
 "cells": [
  {
   "cell_type": "code",
   "execution_count": 1,
   "metadata": {},
   "outputs": [],
   "source": [
    "import os, sys\n",
    "import json\n",
    "import tweepy\n",
    "import tarfile\n",
    "import shutil\n",
    "\n",
    "import pandas as pd\n",
    "import seaborn as sns\n",
    "import matplotlib.pyplot as plt\n",
    "%matplotlib inline\n",
    "sns.set()\n",
    "\n",
    "import time\n",
    "from time import mktime\n",
    "import datetime"
   ]
  },
  {
   "cell_type": "code",
   "execution_count": 2,
   "metadata": {},
   "outputs": [
    {
     "name": "stderr",
     "output_type": "stream",
     "text": [
      "C:\\Users\\myaun\\Anaconda3\\lib\\site-packages\\gensim\\utils.py:1197: UserWarning: detected Windows; aliasing chunkize to chunkize_serial\n",
      "  warnings.warn(\"detected Windows; aliasing chunkize to chunkize_serial\")\n"
     ]
    }
   ],
   "source": [
    "# NLR\n",
    "\n",
    "import MeCab\n",
    "mecab = MeCab.Tagger (r\"-Ochasen -d C:\\Users\\myaun\\Downloads\\ipadic-neologd\")\n",
    "\n",
    "import re\n",
    "import unicodedata\n",
    "import neologdn\n",
    "\n",
    "from nltk.corpus import stopwords\n",
    "stopWords = set(stopwords.words('english'))\n",
    "\n",
    "from gensim import corpora, models"
   ]
  },
  {
   "cell_type": "code",
   "execution_count": 3,
   "metadata": {},
   "outputs": [],
   "source": [
    "# normarize\n",
    "\n",
    "def clean_text(text):\n",
    "    #replaced_text = '\\n'.join(s.strip() for s in text.splitlines()[2:] if s != '')  # skip header by [2:]\n",
    "    replaced_text = text.lower()\n",
    "    replaced_text = re.sub(r'[【】]', ' ', replaced_text)       # 【】の除去\n",
    "    replaced_text = re.sub(r'[（）()]', ' ', replaced_text)     # （）の除去\n",
    "    replaced_text = re.sub(r'[［］\\[\\]]', ' ', replaced_text)   # ［］の除去\n",
    "    replaced_text = re.sub(r'[@＠]\\w+', '', replaced_text)  # メンションの除去\n",
    "    #replaced_text = re.sub(r'https?:\\/\\/.*?[\\r\\n ]', '', replaced_text)  # URLの除去\n",
    "    replaced_text=re.sub(r'https?://[\\w/:%#\\$&\\?\\(\\)~\\.=\\+\\-…]+', \"\", replaced_text)\n",
    "    replaced_text = re.sub(r'　', ' ', replaced_text)  # 全角空白の除去\n",
    "    for rmword in ['w', 'W', 'ｗ', 'Ｗ', '笑']:\n",
    "        replaced_text = replaced_text.replace(rmword, '')\n",
    "    return replaced_text\n",
    "\n",
    "def normalize_number(text):\n",
    "    replaced_text = re.sub(r'\\d+', '0', text)\n",
    "    return replaced_text\n",
    "\n",
    "def normalize_text( text ):\n",
    "    text = clean_text(text)\n",
    "    text = unicodedata.normalize('NFC', text)\n",
    "    text = neologdn.normalize(text)\n",
    "    # text = normalize_number(text)    \n",
    "    return text\n",
    "\n",
    "def remove_stopwords( tokens ):\n",
    "    filtered = []\n",
    "    for w in tokens:\n",
    "        if w not in stopWords:\n",
    "            filtered.append(w)\n",
    "    return filtered\n",
    "\n",
    "# tokenize\n",
    "\n",
    "def get_tokens( text ):\n",
    "    tokens = []\n",
    "    result = mecab.parseToNode( text )\n",
    "    while result:\n",
    "        pos = result.feature.split(',')[0]\n",
    "        token.append( result.surface )\n",
    "        result = result.next\n",
    "    tokens = remove_stopwords( tokens )\n",
    "    return tokens\n",
    "\n",
    "def get_nouns( text ):\n",
    "    nouns = []\n",
    "    result = mecab.parseToNode( text )\n",
    "    while result:\n",
    "        pos = result.feature.split(',')[0]\n",
    "        if pos == '名詞': nouns.append( result.surface )\n",
    "        result = result.next\n",
    "    tokens = remove_stopwords( nouns )\n",
    "    return tokens\n",
    "\n",
    "def get_entity( text ):\n",
    "    entity = []\n",
    "    result = mecab.parseToNode( text )\n",
    "    while result:\n",
    "        line = result.feature.split(',')\n",
    "        pos, tag = line[0], line[1]\n",
    "        if tag == '固有名詞': entity.append( result.surface )\n",
    "        result = result.next\n",
    "    tokens = remove_stopwords( entity )\n",
    "    return tokens\n",
    "\n",
    "def get_keywords_tfidf( yt_keys, idx2vid, name, BoW, tfidf_th_percentile ):\n",
    "    dictionary = corpora.Dictionary( BoW )\n",
    "    corpus = [dictionary.doc2bow(text) for text in BoW]\n",
    "    tfidf = models.TfidfModel(corpus,normalize=True)\n",
    "\n",
    "    vals = []\n",
    "    for i in range( tfidf.num_docs ):\n",
    "        for x in tfidf[corpus[i]]: vals.append(x[1])\n",
    "    if len( vals ) == 0: th = 1.0\n",
    "    else: th = np.percentile( np.array( vals ), tfidf_th_percentile)\n",
    "\n",
    "    for idx, vid in idx2vid.items():\n",
    "        title_keys = []\n",
    "        for x in sorted( tfidf[corpus[idx]], key=lambda x:x[1], reverse=True ):\n",
    "            if x[1] < th: continue\n",
    "            title_keys.append( tuple([dictionary[x[0]], x[1]]) )\n",
    "        yt_keys[vid][name] = title_keys\n",
    "    return yt_keys\n"
   ]
  },
  {
   "cell_type": "code",
   "execution_count": null,
   "metadata": {},
   "outputs": [],
   "source": []
  },
  {
   "cell_type": "code",
   "execution_count": null,
   "metadata": {},
   "outputs": [],
   "source": [
    "# query = \"#欅って書けない\""
   ]
  },
  {
   "cell_type": "code",
   "execution_count": 4,
   "metadata": {},
   "outputs": [],
   "source": [
    "query = \"#欅って書けない\"\n",
    "savepath =  \"../data/tweet\"\n",
    "query_dir = \"%s/%s\" % (savepath, query)\n",
    "if not os.path.exists( query_dir ):\n",
    "    os.mkdir(query_dir)\n",
    "    \n",
    "rows = []\n",
    "\n",
    "target_dir = '%s/1'%(query_dir)\n",
    "files = os.listdir(target_dir)\n",
    "for idx, file in enumerate(files):\n",
    "    f = open('%s/%s' % (target_dir, file), 'r')\n",
    "    tweet = json.load(f)\n",
    "    f.close()\n",
    "    \n",
    "    struct = time.strptime(tweet['created_at'],'%a %b %d %H:%M:%S +0000 %Y')\n",
    "    dt = datetime.datetime.fromtimestamp(mktime(struct))\n",
    "    dt_diff = dt + datetime.timedelta(hours=9)\n",
    "\n",
    "    rows.append( [dt_diff, tweet['text']] )"
   ]
  },
  {
   "cell_type": "code",
   "execution_count": 5,
   "metadata": {},
   "outputs": [
    {
     "name": "stdout",
     "output_type": "stream",
     "text": [
      "(6935, 2)\n"
     ]
    },
    {
     "data": {
      "text/html": [
       "<div>\n",
       "<style scoped>\n",
       "    .dataframe tbody tr th:only-of-type {\n",
       "        vertical-align: middle;\n",
       "    }\n",
       "\n",
       "    .dataframe tbody tr th {\n",
       "        vertical-align: top;\n",
       "    }\n",
       "\n",
       "    .dataframe thead th {\n",
       "        text-align: right;\n",
       "    }\n",
       "</style>\n",
       "<table border=\"1\" class=\"dataframe\">\n",
       "  <thead>\n",
       "    <tr style=\"text-align: right;\">\n",
       "      <th></th>\n",
       "      <th>created_at</th>\n",
       "      <th>text</th>\n",
       "    </tr>\n",
       "  </thead>\n",
       "  <tbody>\n",
       "    <tr>\n",
       "      <th>0</th>\n",
       "      <td>2019-01-21 00:17:30</td>\n",
       "      <td>志田と今泉、降臨パターンワンチャン？</td>\n",
       "    </tr>\n",
       "    <tr>\n",
       "      <th>1</th>\n",
       "      <td>2019-01-21 00:17:55</td>\n",
       "      <td>けやかけDAY  🌳\\n#欅って書けない</td>\n",
       "    </tr>\n",
       "    <tr>\n",
       "      <th>2</th>\n",
       "      <td>2019-01-21 00:27:51</td>\n",
       "      <td>けど、うちも負けてないはずだ。\\n\\n#欅って書けない</td>\n",
       "    </tr>\n",
       "    <tr>\n",
       "      <th>3</th>\n",
       "      <td>2019-01-21 00:28:18</td>\n",
       "      <td>うし。\\n欅書けとひら推し見ますか！！\\n\\n#欅坂46\\n#けやき坂46\\n#欅って書けな...</td>\n",
       "    </tr>\n",
       "    <tr>\n",
       "      <th>4</th>\n",
       "      <td>2019-01-21 00:28:33</td>\n",
       "      <td>さぁーーーーけやかけ待機！！推しが長く映る日です。（基本箱推しだから誰がフィーチャーされても...</td>\n",
       "    </tr>\n",
       "  </tbody>\n",
       "</table>\n",
       "</div>"
      ],
      "text/plain": [
       "           created_at                                               text\n",
       "0 2019-01-21 00:17:30                                 志田と今泉、降臨パターンワンチャン？\n",
       "1 2019-01-21 00:17:55                               けやかけDAY  🌳\\n#欅って書けない\n",
       "2 2019-01-21 00:27:51                        けど、うちも負けてないはずだ。\\n\\n#欅って書けない\n",
       "3 2019-01-21 00:28:18  うし。\\n欅書けとひら推し見ますか！！\\n\\n#欅坂46\\n#けやき坂46\\n#欅って書けな...\n",
       "4 2019-01-21 00:28:33  さぁーーーーけやかけ待機！！推しが長く映る日です。（基本箱推しだから誰がフィーチャーされても..."
      ]
     },
     "execution_count": 5,
     "metadata": {},
     "output_type": "execute_result"
    }
   ],
   "source": [
    "df = pd.DataFrame( rows, columns=['created_at', 'text'] )\n",
    "print( df.shape )\n",
    "df.head()"
   ]
  },
  {
   "cell_type": "code",
   "execution_count": 7,
   "metadata": {},
   "outputs": [
    {
     "data": {
      "image/png": "[encoded data removed]",
      "text/plain": [
       "<Figure size 1440x576 with 1 Axes>"
      ]
     },
     "metadata": {
      "needs_background": "light"
     },
     "output_type": "display_data"
    }
   ],
   "source": [
    "onair_time = ['2019-01-21 00:35', '2019-01-21 01:05']\n",
    "df_onair = df.query('created_at > \"%s\" and created_at < \"%s\"' % (onair_time[0], onair_time[1]))\n",
    "\n",
    "df_onair['created_at'].groupby([df_onair[\"created_at\"].dt.hour, df_onair[\"created_at\"].dt.minute]).count().plot(\n",
    "    x='time', kind=\"bar\", color=\"orange\", figsize=(20, 8))\n",
    "plt.xlabel(\"time\", fontdict={'size': 12})\n",
    "plt.ylabel(\"tweet count\", fontdict={'size': 12})\n",
    "plt.show()"
   ]
  },
  {
   "cell_type": "code",
   "execution_count": 8,
   "metadata": {},
   "outputs": [
    {
     "name": "stdout",
     "output_type": "stream",
     "text": [
      " 0時35分  tweet_num:245　-> keywords: ['けやかけ', 'ツッコミ', '欅坂46', '土生', '#tvtokyo', '理佐', '98年', 'リアタイ', 'もん', 'フォーメーション']\n",
      " 0時36分  tweet_num:230　-> keywords: ['けやかけ', '新成人', '欅坂46', '土生', 'ツッコミ', '理佐', '6人', 'りさ', '20歳', '98年']\n",
      " 0時37分  tweet_num:250　-> keywords: ['理佐', 'けやかけ', 'みい', '欅坂46', '土生', '20歳', 'りさ', '小池', '愛佳', '4人']\n",
      " 0時38分  tweet_num:190　-> keywords: ['けやかけ', '織田', '理佐', 'みい', '欅坂46', 'みぃちゃん', '自撮り', '大惨事', '樂', 'りさ']\n",
      " 0時39分  tweet_num:200　-> keywords: ['お酒', '理佐', 'みい', 'けやかけ', 'りさ', '20歳', '欅坂46', 'ほろよい', 'チューハイ', '織田']\n",
      " 0時40分  tweet_num:202　-> keywords: ['みい', '欅坂46', '理佐', 'お酒', 'けやかけ', '4人', '織田', '守屋', '#tvtokyo', '織田奈那']\n",
      " 0時41分  tweet_num:198　-> keywords: ['欅坂46', 'けやかけ', '理佐', '織田', 'みい', 'みぃちゃん', '好きな人', 'りさ', '世界三大珍味', 'おだ']\n",
      " 0時42分  tweet_num:159　-> keywords: ['けやかけ', '彦摩呂', '欅坂46', '世界三大珍味', 'りさ', '織田', '新成人', '#tvtokyo', '1番', '三大']\n",
      " 0時43分  tweet_num:199　-> keywords: ['イカスミ', '欅坂46', '織田', 'けやかけ', '織田奈那', '三大', '4人', '理佐', 'おだ', 'なな']\n",
      " 0時44分  tweet_num:214　-> keywords: ['フォ', '欅坂46', '理佐', '飯テロ', 'おだ', 'なな', 'けやかけ', '織田奈那', '長濱ねる', '#tvtokyo']\n",
      " 0時45分  tweet_num:202　-> keywords: ['欅坂46', 'うなぎのタレ', 'けやかけ', 'フォ', '長濱ねる', '菅井', '食リポ', '新成人', '小池美波', '渡邉理佐']\n",
      " 0時46分  tweet_num:208　-> keywords: ['欅坂46', 'けやかけ', '紫芋', '長濱ねる', 'おだ', 'なな', '菅井', '世界三大珍味', 'ω', '飯テロ']\n",
      " 0時47分  tweet_num:172　-> keywords: ['欅坂46', 'けやかけ', '長濱ねる', '渡邉理佐', '新成人', '小池美波', '織田', '奈那', '小4', 'フォ']\n",
      " 0時48分  tweet_num:132　-> keywords: ['歌舞伎町', '4人', '理佐', 'けやかけ', '長濱ねる', '志田', '欅坂46', 'フォーメーション', 'るな', '食リポ']\n",
      " 0時49分  tweet_num:236　-> keywords: ['ニューハーフ', '欅坂46', '歌舞伎町', 'けやかけ', '2丁目', 'ノブ', 'amp', 'フッキー', '長濱ねる', 'ゲイバー']\n",
      " 0時50分  tweet_num:170　-> keywords: ['ニューハーフ', 'サイレントマジョリティー', '新宿二丁目', '二丁目', '欅坂46', '下ネタ', 'けやかけ', '2丁目', '4人', 'かよ']\n",
      " 0時51分  tweet_num:178　-> keywords: ['ニューハーフ', '欅坂46', 'けやかけ', '織田', 'おだ', 'なな', '新宿2丁目', 'ω', '乃木', '長濱ねる']\n",
      " 0時52分  tweet_num:204　-> keywords: ['ニューハーフ', 'みい', '欅坂46', '織田', 'けやかけ', '人生相談', 'おだ', 'なな', '#tvtokyo', '理佐']\n",
      " 0時53分  tweet_num:246　-> keywords: ['ニューハーフ', 'けやかけ', '欅坂46', 'みぃちゃん', '涙', '理佐', '織田', 'みい', '小池美波', '長濱ねる']\n",
      " 0時54分  tweet_num:233　-> keywords: ['ニューハーフ', '下ネタ', '放送禁止用語', '欅坂46', 'コンプラ', 'けやかけ', '放送禁止', 'バキューン', '小池', 'みい']\n",
      " 0時55分  tweet_num:194　-> keywords: ['ニューハーフ', 'けやかけ', '欅坂46', '長濱ねる', 'テレ東', '回らないお寿司', '放送禁止用語', 'おネエ', '小池美波', 'りさ']\n",
      " 0時56分  tweet_num:197　-> keywords: ['回らないお寿司', '織田', 'けやかけ', 'ニューハーフ', '理佐', '欅坂46', 'みい', 'りさ', 'ほり川', '大吟醸']\n",
      " 0時57分  tweet_num:276　-> keywords: ['みい', 'みぃちゃん', '小池', 'お酒', '理佐', 'けやかけ', '欅坂46', 'みーちゃん', '織田', 'おだ']\n",
      " 0時58分  tweet_num:240　-> keywords: ['理佐', 'みい', 'のどぐろ', '欅坂46', '大トロ', 'けやかけ', '織田', 'みぃちゃん', '飯テロ', '小池']\n",
      " 0時59分  tweet_num:145　-> keywords: ['理佐', '欅坂46', 'けやかけ', 'みい', 'お酒', '2期生', '大トロ', '愛佳', 'おだ', 'なな']\n",
      " 1時 0分  tweet_num:150　-> keywords: ['理佐', '織田', 'けやかけ', '欅坂46', 'みい', '夫婦', '乃木坂工事中', '乃木中', '水樹奈々', '生誕祭']\n",
      " 1時 1分  tweet_num:170　-> keywords: ['あかね', '夫婦', '欅坂46', '守屋', '理佐', '織田', 'けやかけ', 'みぃちゃん', 'ニューハーフ', '小池']\n",
      " 1時 2分  tweet_num:288　-> keywords: ['守屋', 'あかね', '欅坂46', '守屋茜', 'けやかけ', '顔芸', 'ニューハーフ', 'みい', '長濱ねる', '夫婦']\n",
      " 1時 3分  tweet_num:251　-> keywords: ['守屋', 'あかね', '宮城', 'けやかけ', '2期生', '選抜発表', '欅坂46', 'ニューハーフ', '理佐', '4人']\n",
      " 1時 4分  tweet_num:156　-> keywords: ['宮城', 'あかね', '守屋', '欅坂46', '選抜発表', 'けやかけ', '守屋茜', 'フォーメーション', '1番', 'じゃなくて']\n"
     ]
    }
   ],
   "source": [
    "grouped = df_onair.groupby([df[\"created_at\"].dt.hour, df[\"created_at\"].dt.minute])\n",
    "\n",
    "for key in grouped.groups.keys():\n",
    "    texts = grouped.get_group(key)['text'].values.tolist()\n",
    "    BoE = [ get_entity( normalize_text( text ) ) for text in texts ]\n",
    "    dictionary = corpora.Dictionary( BoE )\n",
    "    # top10 = [ (dictionary[i], j) for i, j in sorted( dictionary.dfs.items(), key=lambda x:x[1], reverse=True)[1:11] ]\n",
    "    top10 = [ dictionary[i] for i, j in sorted( dictionary.dfs.items(), key=lambda x:x[1], reverse=True)[:10] ]\n",
    "    print( '%2d時%2d分  tweet_num:%d　-> keywords:' % (key[0], key[1], len(texts)), top10 )"
   ]
  },
  {
   "cell_type": "code",
   "execution_count": null,
   "metadata": {},
   "outputs": [],
   "source": []
  },
  {
   "cell_type": "code",
   "execution_count": 11,
   "metadata": {},
   "outputs": [],
   "source": [
    "# query = \"#ひらがな推し\""
   ]
  },
  {
   "cell_type": "code",
   "execution_count": 9,
   "metadata": {},
   "outputs": [],
   "source": [
    "query = \"#ひらがな推し\"\n",
    "savepath =  \"../data/tweet\"\n",
    "query_dir = \"%s/%s\" % (savepath, query)\n",
    "if not os.path.exists( query_dir ):\n",
    "    os.mkdir(query_dir)\n",
    "    \n",
    "rows = []\n",
    "\n",
    "target_dir = '%s/1'%(query_dir)\n",
    "files = os.listdir(target_dir)\n",
    "for idx, file in enumerate(files):\n",
    "    f = open('%s/%s' % (target_dir, file), 'r')\n",
    "    tweet = json.load(f)\n",
    "    f.close()\n",
    "    \n",
    "    struct = time.strptime(tweet['created_at'],'%a %b %d %H:%M:%S +0000 %Y')\n",
    "    dt = datetime.datetime.fromtimestamp(mktime(struct))\n",
    "    dt_diff = dt + datetime.timedelta(hours=9)\n",
    "\n",
    "    rows.append( [dt_diff, tweet['text']] )"
   ]
  },
  {
   "cell_type": "code",
   "execution_count": 10,
   "metadata": {},
   "outputs": [
    {
     "name": "stdout",
     "output_type": "stream",
     "text": [
      "(8164, 2)\n"
     ]
    },
    {
     "data": {
      "text/html": [
       "<div>\n",
       "<style scoped>\n",
       "    .dataframe tbody tr th:only-of-type {\n",
       "        vertical-align: middle;\n",
       "    }\n",
       "\n",
       "    .dataframe tbody tr th {\n",
       "        vertical-align: top;\n",
       "    }\n",
       "\n",
       "    .dataframe thead th {\n",
       "        text-align: right;\n",
       "    }\n",
       "</style>\n",
       "<table border=\"1\" class=\"dataframe\">\n",
       "  <thead>\n",
       "    <tr style=\"text-align: right;\">\n",
       "      <th></th>\n",
       "      <th>created_at</th>\n",
       "      <th>text</th>\n",
       "    </tr>\n",
       "  </thead>\n",
       "  <tbody>\n",
       "    <tr>\n",
       "      <th>0</th>\n",
       "      <td>2019-01-21 00:21:07</td>\n",
       "      <td>本日リアルタイム(25:05〜)でひらがな推しの画像、動画等をアップする【ひらがな推しハイラ...</td>\n",
       "    </tr>\n",
       "    <tr>\n",
       "      <th>1</th>\n",
       "      <td>2019-01-21 00:21:09</td>\n",
       "      <td>ひなのなの♥️\\n\\n#けやき坂46 #ひらがな推し\\n#上村ひなの https://t.c...</td>\n",
       "    </tr>\n",
       "    <tr>\n",
       "      <th>2</th>\n",
       "      <td>2019-01-21 00:23:17</td>\n",
       "      <td>浮島綱引きバトル\\nみーぱんvsきくちゃん\\n\\n#けやき坂46 #ひらがな推し #佐々木美...</td>\n",
       "    </tr>\n",
       "    <tr>\n",
       "      <th>3</th>\n",
       "      <td>2019-01-21 00:28:18</td>\n",
       "      <td>うし。\\n欅書けとひら推し見ますか！！\\n\\n#欅坂46\\n#けやき坂46\\n#欅って書けな...</td>\n",
       "    </tr>\n",
       "    <tr>\n",
       "      <th>4</th>\n",
       "      <td>2019-01-21 00:29:08</td>\n",
       "      <td>乃木中見てたら寝れなくなった😓\\nこの際だからひらがな推しまでみちゃうか⁉️\\n#乃木坂工事...</td>\n",
       "    </tr>\n",
       "  </tbody>\n",
       "</table>\n",
       "</div>"
      ],
      "text/plain": [
       "           created_at                                               text\n",
       "0 2019-01-21 00:21:07  本日リアルタイム(25:05〜)でひらがな推しの画像、動画等をアップする【ひらがな推しハイラ...\n",
       "1 2019-01-21 00:21:09  ひなのなの♥️\\n\\n#けやき坂46 #ひらがな推し\\n#上村ひなの https://t.c...\n",
       "2 2019-01-21 00:23:17  浮島綱引きバトル\\nみーぱんvsきくちゃん\\n\\n#けやき坂46 #ひらがな推し #佐々木美...\n",
       "3 2019-01-21 00:28:18  うし。\\n欅書けとひら推し見ますか！！\\n\\n#欅坂46\\n#けやき坂46\\n#欅って書けな...\n",
       "4 2019-01-21 00:29:08  乃木中見てたら寝れなくなった😓\\nこの際だからひらがな推しまでみちゃうか⁉️\\n#乃木坂工事..."
      ]
     },
     "execution_count": 10,
     "metadata": {},
     "output_type": "execute_result"
    }
   ],
   "source": [
    "df = pd.DataFrame( rows, columns=['created_at', 'text'] )\n",
    "print( df.shape )\n",
    "df.head()"
   ]
  },
  {
   "cell_type": "code",
   "execution_count": 11,
   "metadata": {},
   "outputs": [
    {
     "data": {
      "image/png": "[encoded data removed]",
      "text/plain": [
       "<Figure size 1440x576 with 1 Axes>"
      ]
     },
     "metadata": {
      "needs_background": "light"
     },
     "output_type": "display_data"
    }
   ],
   "source": [
    "onair_time = ['2019-01-21 01:05', '2019-01-21 01:35']\n",
    "df_onair = df.query('created_at > \"%s\" and created_at < \"%s\"' % (onair_time[0], onair_time[1]))\n",
    "\n",
    "df_onair['created_at'].groupby([df_onair[\"created_at\"].dt.hour, df_onair[\"created_at\"].dt.minute]).count().plot(\n",
    "    x='time', kind=\"bar\", color=\"orange\", figsize=(20, 8))\n",
    "plt.xlabel(\"time\", fontdict={'size': 12})\n",
    "plt.ylabel(\"tweet count\", fontdict={'size': 12})\n",
    "plt.show()"
   ]
  },
  {
   "cell_type": "code",
   "execution_count": 12,
   "metadata": {},
   "outputs": [
    {
     "name": "stdout",
     "output_type": "stream",
     "text": [
      " 1時 5分  tweet_num:255　-> keywords: ['ちゅどーん', 'ハムカツ', 'ちゅ', 'けやき坂46', 'ひらがな', '井口', 'まな', '乃木坂工事中', '乃木中', '30分']\n",
      " 1時 6分  tweet_num:315　-> keywords: ['柿崎', 'ハムカツ', 'ぶりっ子', 'けやき坂46', '丹生', '菜緒', '愛萌', 'きょん', '井口', '#tvtokyo']\n",
      " 1時 7分  tweet_num:307　-> keywords: ['丹生', 'このちゃん', '若林', '陽菜', 'ω', '松田', '#tvtokyo', 'けやき坂46', 'ぶりっ子', '柿崎']\n",
      " 1時 8分  tweet_num:412　-> keywords: ['丹生', '柿崎', '若林', 'ウイニングラン', '松田', '小坂', 'ぶりっ子', 'このか', 'けやき坂46', '実']\n",
      " 1時 9分  tweet_num:398　-> keywords: ['若林', '丹生', 'きょん', '柿崎', '小坂', 'けやき坂46', '愛萌', 'このちゃん', '小坂菜緒', '菜緒']\n",
      " 1時10分  tweet_num:360　-> keywords: ['きょん', 'まな', '丹生', '若林', '愛萌', '久美', 'けやき坂46', '齊藤京子', '宮田', '京子']\n",
      " 1時11分  tweet_num:528　-> keywords: ['まな', '愛萌', '宮田', 'きょん', '宮田愛', '萌', 'けやき坂46', '久美', '齊藤京子', '丹生']\n",
      " 1時12分  tweet_num:317　-> keywords: ['まな', '愛萌', '宮田', 'きょん', '宮田愛', '萌', '前前前世', 'けやき坂46', '若林', '丹生']\n",
      " 1時13分  tweet_num:213　-> keywords: ['愛萌', 'まな', '寸止め', '若林', '宮田', '丹生', 'きょん', 'けやき坂46', '萌', '宮田愛']\n",
      " 1時14分  tweet_num:149　-> keywords: ['オードリー', '愛萌', '春日', '寸止め', 'けやき坂46', '丹生', '菜緒', '握手会', 'まな', '小坂菜緒']\n",
      " 1時15分  tweet_num:215　-> keywords: ['けやき坂46', '#tvtokyo', '反射神経', 'ひらがなけやき', '逮捕しちゃうぞ', 'オードリー', '若林', '寸止め', '齊藤京子', 'まな']\n",
      " 1時16分  tweet_num:242　-> keywords: ['反射神経', 'おたけ', 'けやき坂46', 'ひらがなけやき', '99cm', '若林', '運動神経', 'あや', '高本', '加藤史帆']\n",
      " 1時17分  tweet_num:252　-> keywords: ['おたけ', '若林', '5cm', '反射神経', '推しメン', 'けやき坂46', 'あや', '彩ちゃん', '高本', '高本彩花']\n",
      " 1時18分  tweet_num:200　-> keywords: ['おたけ', '三角関係', '若林', 'ガヤ', 'けやき坂46', '小坂', 'ω', '久美', '高本', '若']\n",
      " 1時19分  tweet_num:316　-> keywords: ['三角関係', 'プク', '小坂', 'オードリー', '若林', '菜緒', '小坂菜緒', 'おたけ', 'みほ', 'けやき坂46']\n",
      " 1時20分  tweet_num:222　-> keywords: ['みほ', '美穂', 'バラエティ', 'けやき坂46', '三角関係', 'ひらがなけやき', '渡邉美穂', '写真集', '#tvtokyo', '加藤史帆']\n",
      " 1時21分  tweet_num:201　-> keywords: ['みほ', '美穂', 'けやき坂46', 'バラエティ', '渡邉美穂', 'オードリー', 'ひらがなけやき', '井口', '瞬足', '#tvtokyo']\n",
      " 1時22分  tweet_num:221　-> keywords: ['ローラーシューズ', 'ヒーリーズ', 'みほ', 'けやき坂46', 'わからん', 'バラエティ', '美穂', '小坂菜緒', '正式名称', '春日']\n",
      " 1時23分  tweet_num:163　-> keywords: ['ローラーシューズ', 'オードリー', '富田', 'けやき坂46', 'たな', '春日', 'とみすず', 'パリピ', '小坂菜緒', 'ひらがなけやき']\n",
      " 1時24分  tweet_num:163　-> keywords: ['ヒーリーズ', 'ローラーシューズ', 'おたけ', '富田', '丹生', '富田鈴花', 'パリピ', '美玖', '井口', 'たな']\n",
      " 1時25分  tweet_num:264　-> keywords: ['おたけ', 'ヒーリーズ', 'ローラーシューズ', '高本', '1人', 'けやき坂46', 'ガラケー', '正式名称', '一人勝ち', '彩花']\n",
      " 1時26分  tweet_num:227　-> keywords: ['ガラケー', 'おたけ', 'ヒーリーズ', 'レッドシアター', 'けやき坂46', 'ローラーシューズ', '井口', 'ガラパゴスケータイ', '高本', 'しずる']\n",
      " 1時27分  tweet_num:197　-> keywords: ['井口', 'けやき坂46', '愛萌', 'ヒーリーズ', 'レッドシアター', 'しずる', 'おたけ', 'ガラケー', 'イチャイチャ', '小坂菜緒']\n",
      " 1時28分  tweet_num:196　-> keywords: ['野ブタ', '野ブタをプロデュース', 'わからん', 'けやき坂46', 'レッドシアター', 'ヒーリーズ', '愛萌', '井口', '野ブタ。をプロデュース', 'はんにゃ']\n",
      " 1時29分  tweet_num:196　-> keywords: ['野ブタ', '野ブタをプロデュース', '久美', '井口', 'けやき坂46', '青春アミーゴ', '堀北真希', '修二と彰', '野ブタ。をプロデュース', '愛萌']\n",
      " 1時30分  tweet_num:197　-> keywords: ['野ブタ', '楽しんご', 'ラブ注入', '丹生', '美玖', 'ぱん', 'けやき坂46', 'みく', '寿司', '野ブタをプロデュース']\n",
      " 1時31分  tweet_num:170　-> keywords: ['野ブタ', '丹生', 'ラブ注入', '野ブタをプロデュース', '河田', '陽菜', 'ぱん', 'けやき坂46', '久美', '青春アミーゴ']\n",
      " 1時32分  tweet_num:85　-> keywords: ['野ブタ', '丹生', '楽しんご', '美玖', '野ブタをプロデュース', '2005年', '小5', '金村', 'な!', '乃木坂工事中']\n",
      " 1時33分  tweet_num:178　-> keywords: ['河田', '野ブタ', '陽菜', 'けやき坂46', '若林', 'オードリー', '乃木坂工事中', 'ひらがなけやき', 'かよ', '小悪魔']\n",
      " 1時34分  tweet_num:107　-> keywords: ['河田', '乃木坂工事中', '陽菜', 'けやき坂46', '野ブタ', '丹生', '金村', '若林', 'ひらがな', 'オードリー']\n"
     ]
    }
   ],
   "source": [
    "grouped = df_onair.groupby([df[\"created_at\"].dt.hour, df[\"created_at\"].dt.minute])\n",
    "\n",
    "for key in grouped.groups.keys():\n",
    "    texts = grouped.get_group(key)['text'].values.tolist()\n",
    "    BoE = [ get_entity( normalize_text( text ) ) for text in texts ]\n",
    "    dictionary = corpora.Dictionary( BoE )\n",
    "    # top10 = [ (dictionary[i], j) for i, j in sorted( dictionary.dfs.items(), key=lambda x:x[1], reverse=True)[1:11] ]\n",
    "    top10 = [ dictionary[i] for i, j in sorted( dictionary.dfs.items(), key=lambda x:x[1], reverse=True)[1:11] ]\n",
    "    print( '%2d時%2d分  tweet_num:%d　-> keywords:' % (key[0], key[1], len(texts)), top10 )"
   ]
  },
  {
   "cell_type": "code",
   "execution_count": null,
   "metadata": {},
   "outputs": [],
   "source": []
  },
  {
   "cell_type": "code",
   "execution_count": 15,
   "metadata": {},
   "outputs": [],
   "source": [
    "query = \"#乃木坂工事中\"\n",
    "savepath =  \"../data/tweet\"\n",
    "query_dir = \"%s/%s\" % (savepath, query)\n",
    "if not os.path.exists( query_dir ):\n",
    "    os.mkdir(query_dir)"
   ]
  },
  {
   "cell_type": "code",
   "execution_count": 16,
   "metadata": {},
   "outputs": [
    {
     "data": {
      "text/plain": [
       "['0.tar.gz', '1.tar.gz', '2']"
      ]
     },
     "execution_count": 16,
     "metadata": {},
     "output_type": "execute_result"
    }
   ],
   "source": [
    "files = os.listdir(query_dir)\n",
    "files"
   ]
  },
  {
   "cell_type": "code",
   "execution_count": 17,
   "metadata": {},
   "outputs": [
    {
     "name": "stdout",
     "output_type": "stream",
     "text": [
      "0 0.tar.gz\n",
      "1 1.tar.gz\n",
      "2 2\n"
     ]
    }
   ],
   "source": [
    "rows = []\n",
    "\n",
    "for idx, file in enumerate(files):\n",
    "    print( idx, file )\n",
    "    if os.path.isfile( \"%s/%s\" % (query_dir, file) ): # file\n",
    "        taffile_path = \"%s/%s\" % (query_dir, file)\n",
    "        tf = tarfile.open( taffile_path , 'r')\n",
    "        for fname_in_tar in tf.getnames():\n",
    "            f = tf.extractfile( fname_in_tar )\n",
    "            tweet = json.loads( f.read().decode() )\n",
    "            struct = time.strptime(tweet['created_at'],'%a %b %d %H:%M:%S +0000 %Y')\n",
    "            dt = datetime.datetime.fromtimestamp(mktime(struct))\n",
    "            dt_diff = dt + datetime.timedelta(hours=9)\n",
    "\n",
    "            rows.append( [dt_diff, tweet['text']] )  \n",
    "    else: # dir\n",
    "        target_dir = \"%s/%s\" % (query_dir, file)\n",
    "        files = os.listdir(target_dir)\n",
    "        for idx, file in enumerate(files):\n",
    "            f = open('%s/%s' % (target_dir, file), 'r')\n",
    "            tweet = json.load(f)\n",
    "            f.close()\n",
    "\n",
    "            struct = time.strptime(tweet['created_at'],'%a %b %d %H:%M:%S +0000 %Y')\n",
    "            dt = datetime.datetime.fromtimestamp(mktime(struct))\n",
    "            dt_diff = dt + datetime.timedelta(hours=9)\n",
    "\n",
    "            rows.append( [dt_diff, tweet['text']] )"
   ]
  },
  {
   "cell_type": "code",
   "execution_count": 18,
   "metadata": {},
   "outputs": [
    {
     "name": "stdout",
     "output_type": "stream",
     "text": [
      "(13871, 2)\n"
     ]
    },
    {
     "data": {
      "text/html": [
       "<div>\n",
       "<style scoped>\n",
       "    .dataframe tbody tr th:only-of-type {\n",
       "        vertical-align: middle;\n",
       "    }\n",
       "\n",
       "    .dataframe tbody tr th {\n",
       "        vertical-align: top;\n",
       "    }\n",
       "\n",
       "    .dataframe thead th {\n",
       "        text-align: right;\n",
       "    }\n",
       "</style>\n",
       "<table border=\"1\" class=\"dataframe\">\n",
       "  <thead>\n",
       "    <tr style=\"text-align: right;\">\n",
       "      <th></th>\n",
       "      <th>created_at</th>\n",
       "      <th>text</th>\n",
       "    </tr>\n",
       "  </thead>\n",
       "  <tbody>\n",
       "    <tr>\n",
       "      <th>0</th>\n",
       "      <td>2019-01-21 00:18:44</td>\n",
       "      <td>は、めっちゃ可愛い #乃木坂工事中</td>\n",
       "    </tr>\n",
       "    <tr>\n",
       "      <th>1</th>\n",
       "      <td>2019-01-21 00:18:44</td>\n",
       "      <td>やくぼちゃん！！！\\n#乃木坂工事中</td>\n",
       "    </tr>\n",
       "    <tr>\n",
       "      <th>2</th>\n",
       "      <td>2019-01-21 00:18:44</td>\n",
       "      <td>ウチの大学にもこんなリクルートスーツ似合う女子いねえかな…\\n\\n #乃木坂工事中</td>\n",
       "    </tr>\n",
       "    <tr>\n",
       "      <th>3</th>\n",
       "      <td>2019-01-21 00:18:44</td>\n",
       "      <td>#乃木坂工事中 えんどうさくらちゃんが大トリ予想</td>\n",
       "    </tr>\n",
       "    <tr>\n",
       "      <th>4</th>\n",
       "      <td>2019-01-21 00:18:44</td>\n",
       "      <td>生ドルコンビ\\n#乃木坂工事中</td>\n",
       "    </tr>\n",
       "  </tbody>\n",
       "</table>\n",
       "</div>"
      ],
      "text/plain": [
       "           created_at                                       text\n",
       "0 2019-01-21 00:18:44                          は、めっちゃ可愛い #乃木坂工事中\n",
       "1 2019-01-21 00:18:44                         やくぼちゃん！！！\\n#乃木坂工事中\n",
       "2 2019-01-21 00:18:44  ウチの大学にもこんなリクルートスーツ似合う女子いねえかな…\\n\\n #乃木坂工事中\n",
       "3 2019-01-21 00:18:44                   #乃木坂工事中 えんどうさくらちゃんが大トリ予想\n",
       "4 2019-01-21 00:18:44                            生ドルコンビ\\n#乃木坂工事中"
      ]
     },
     "execution_count": 18,
     "metadata": {},
     "output_type": "execute_result"
    }
   ],
   "source": [
    "df = pd.DataFrame( rows, columns=['created_at', 'text'] )\n",
    "print( df.shape )\n",
    "df.head()"
   ]
  },
  {
   "cell_type": "code",
   "execution_count": 21,
   "metadata": {},
   "outputs": [
    {
     "data": {
      "image/png": "[encoded data removed]",
      "text/plain": [
       "<Figure size 720x576 with 1 Axes>"
      ]
     },
     "metadata": {
      "needs_background": "light"
     },
     "output_type": "display_data"
    }
   ],
   "source": [
    "onair_time = ['2019-01-21 00:00', '2019-01-21 00:30']\n",
    "df_onair = df.query('created_at > \"%s\" and created_at < \"%s\"' % (onair_time[0], onair_time[1]))\n",
    "\n",
    "df_onair['created_at'].groupby([df_onair[\"created_at\"].dt.hour, df_onair[\"created_at\"].dt.minute]).count().plot(\n",
    "    x='time', kind=\"bar\", color=\"orange\", figsize=(10, 8))\n",
    "plt.xlabel(\"time\", fontdict={'size': 12})\n",
    "plt.ylabel(\"tweet count\", fontdict={'size': 12})\n",
    "plt.show()"
   ]
  },
  {
   "cell_type": "code",
   "execution_count": 22,
   "metadata": {},
   "outputs": [
    {
     "name": "stdout",
     "output_type": "stream",
     "text": [
      " 0時18分  tweet_num:199　-> keywords: ['矢久保', '久保', '美緒', '松村', '柴田', '与田', '乃木中', 'コール', 'かずみ', 'パクチー']\n",
      " 0時19分  tweet_num:701　-> keywords: ['矢久保', '美緒', '久保', 'juju', '松村', 'じゅじゅ', 'ちゅん', '乃木中', '4期', '乃木坂46']\n",
      " 0時20分  tweet_num:1103　-> keywords: ['矢久保', '設楽', 'まちゅ', 'ちゅん', '松村', '美緒', 'そうかもしれない', 'さゆりん', '久保', '乃木中']\n",
      " 0時21分  tweet_num:933　-> keywords: ['矢久保', '藤森', 'コール', '美緒', '乃木中', 'ガチ', '設楽', '中田', '久保', '乃木坂46']\n",
      " 0時22分  tweet_num:1036　-> keywords: ['焼きそばパン', '矢久保', '美緒', '乃木坂46', 'フライドチキン', 'コール', '乃木中', '久保', '4期生', 'たくあん']\n",
      " 0時23分  tweet_num:915　-> keywords: ['矢久保', '焼きそばパン', '美緒', 'コール', '中田', '久保', '乃木中', '乃木坂46', '4期生', 'まちゅ']\n",
      " 0時24分  tweet_num:1212　-> keywords: ['矢久保', '美緒', 'まちゅ', '中田', '松村', 'コール', '焼きそばパン', '乃木坂46', '乃木中', '4期']\n",
      " 0時25分  tweet_num:889　-> keywords: ['矢久保', '美緒', '4期生', '4期', '乃木中', '中田', '松村', '3週', '乃木坂', '久保']\n",
      " 0時26分  tweet_num:684　-> keywords: ['矢久保', '焼きそばパン', '設楽', 'バナナマン', 'エビフライ', '美緒', '乃木中', '乃木坂46', 'コール', '4期']\n",
      " 0時27分  tweet_num:950　-> keywords: ['飛鳥', '矢久保', '設楽', '焼きそばパン', 'バナナマン', '4期生', '日村', 'まあや', '美緒', '乃木坂46']\n",
      " 0時28分  tweet_num:908　-> keywords: ['飛鳥', 'バナナマン', '4期生', '矢久保', '乃木中', '乃木坂46', '設楽', '美緒', 'さくらちゃん', '4期']\n",
      " 0時29分  tweet_num:640　-> keywords: ['4期生', '飛鳥', '矢久保', '乃木中', 'バナナマン', '4期', '30分', '美緒', '乃木坂46', '3週']\n"
     ]
    }
   ],
   "source": [
    "grouped = df_onair.groupby([df[\"created_at\"].dt.hour, df[\"created_at\"].dt.minute])\n",
    "\n",
    "for key in grouped.groups.keys():\n",
    "    texts = grouped.get_group(key)['text'].values.tolist()\n",
    "    BoE = [ get_entity( normalize_text( text ) ) for text in texts ]\n",
    "    dictionary = corpora.Dictionary( BoE )\n",
    "    # top10 = [ (dictionary[i], j) for i, j in sorted( dictionary.dfs.items(), key=lambda x:x[1], reverse=True)[1:11] ]\n",
    "    top10 = [ dictionary[i] for i, j in sorted( dictionary.dfs.items(), key=lambda x:x[1], reverse=True)[1:11] ]\n",
    "    print( '%2d時%2d分  tweet_num:%d　-> keywords:' % (key[0], key[1], len(texts)), top10 )"
   ]
  },
  {
   "cell_type": "code",
   "execution_count": null,
   "metadata": {},
   "outputs": [],
   "source": []
  }
 ],
 "metadata": {
  "kernelspec": {
   "display_name": "Python 3",
   "language": "python",
   "name": "python3"
  },
  "language_info": {
   "codemirror_mode": {
    "name": "ipython",
    "version": 3
   },
   "file_extension": ".py",
   "mimetype": "text/x-python",
   "name": "python",
   "nbconvert_exporter": "python",
   "pygments_lexer": "ipython3",
   "version": "3.7.1"
  }
 },
 "nbformat": 4,
 "nbformat_minor": 2
}
